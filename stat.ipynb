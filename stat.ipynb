{
 "metadata": {
  "language_info": {
   "codemirror_mode": {
    "name": "ipython",
    "version": 3
   },
   "file_extension": ".py",
   "mimetype": "text/x-python",
   "name": "python",
   "nbconvert_exporter": "python",
   "pygments_lexer": "ipython3",
   "version": "3.8.5-final"
  },
  "orig_nbformat": 2,
  "kernelspec": {
   "name": "python3",
   "display_name": "Python 3.8.5 64-bit",
   "metadata": {
    "interpreter": {
     "hash": "2db524e06e9f5f4ffedc911c917cb75e12dbc923643829bf417064a77eb14d37"
    }
   }
  }
 },
 "nbformat": 4,
 "nbformat_minor": 2,
 "cells": [
  {
   "cell_type": "code",
   "execution_count": 46,
   "metadata": {},
   "outputs": [
    {
     "output_type": "stream",
     "name": "stdout",
     "text": [
      "progress = 6.3%\nthe remaining empty indo rows:\n"
     ]
    },
    {
     "output_type": "execute_result",
     "data": {
      "text/plain": [
       "                   Id                                                 英文  \\\n",
       "192       cardName_82                                       Speed Prayer   \n",
       "193       cardDesc_82  Draw 1/2/3/4/5 cards depending on how many tur...   \n",
       "194     cardDescEx_82                    Draw {1} cards after {0} turns.   \n",
       "195       cardName_83                                      Attack Prayer   \n",
       "197     cardDescEx_83                   Deal {1} damage after {0} turns.   \n",
       "...               ...                                                ...   \n",
       "8473        TipCancel                                             Cancel   \n",
       "8474  TipGetServerUrl                             Get the server address   \n",
       "8475      TipNoServer        Unable to connect, please check the network   \n",
       "8476     TipEmptyDeck                                              Empty   \n",
       "8477     LastLoginTip                                         Last login   \n",
       "\n",
       "                                  日语 Indo  \n",
       "192                            速度の祈り  NaN  \n",
       "193     祈りのターン数によって、カードを1/2/3/4/5枚引く  NaN  \n",
       "194               {0}ターン後、カードを{1}枚引く  NaN  \n",
       "195                            攻撃の祈り  NaN  \n",
       "197            {0}ターン後、{1}点のダメージを与える  NaN  \n",
       "...                              ...  ...  \n",
       "8473                              戻る  NaN  \n",
       "8474                    サーバーアドレスを取得中  NaN  \n",
       "8475  接続できません。ネットに繋がっているかどうかをご確認ください  NaN  \n",
       "8476                            からっぽ  NaN  \n",
       "8477                            前回登録  NaN  \n",
       "\n",
       "[7947 rows x 4 columns]"
      ],
      "text/html": "<div>\n<style scoped>\n    .dataframe tbody tr th:only-of-type {\n        vertical-align: middle;\n    }\n\n    .dataframe tbody tr th {\n        vertical-align: top;\n    }\n\n    .dataframe thead th {\n        text-align: right;\n    }\n</style>\n<table border=\"1\" class=\"dataframe\">\n  <thead>\n    <tr style=\"text-align: right;\">\n      <th></th>\n      <th>Id</th>\n      <th>英文</th>\n      <th>日语</th>\n      <th>Indo</th>\n    </tr>\n  </thead>\n  <tbody>\n    <tr>\n      <th>192</th>\n      <td>cardName_82</td>\n      <td>Speed Prayer</td>\n      <td>速度の祈り</td>\n      <td>NaN</td>\n    </tr>\n    <tr>\n      <th>193</th>\n      <td>cardDesc_82</td>\n      <td>Draw 1/2/3/4/5 cards depending on how many tur...</td>\n      <td>祈りのターン数によって、カードを1/2/3/4/5枚引く</td>\n      <td>NaN</td>\n    </tr>\n    <tr>\n      <th>194</th>\n      <td>cardDescEx_82</td>\n      <td>Draw {1} cards after {0} turns.</td>\n      <td>{0}ターン後、カードを{1}枚引く</td>\n      <td>NaN</td>\n    </tr>\n    <tr>\n      <th>195</th>\n      <td>cardName_83</td>\n      <td>Attack Prayer</td>\n      <td>攻撃の祈り</td>\n      <td>NaN</td>\n    </tr>\n    <tr>\n      <th>197</th>\n      <td>cardDescEx_83</td>\n      <td>Deal {1} damage after {0} turns.</td>\n      <td>{0}ターン後、{1}点のダメージを与える</td>\n      <td>NaN</td>\n    </tr>\n    <tr>\n      <th>...</th>\n      <td>...</td>\n      <td>...</td>\n      <td>...</td>\n      <td>...</td>\n    </tr>\n    <tr>\n      <th>8473</th>\n      <td>TipCancel</td>\n      <td>Cancel</td>\n      <td>戻る</td>\n      <td>NaN</td>\n    </tr>\n    <tr>\n      <th>8474</th>\n      <td>TipGetServerUrl</td>\n      <td>Get the server address</td>\n      <td>サーバーアドレスを取得中</td>\n      <td>NaN</td>\n    </tr>\n    <tr>\n      <th>8475</th>\n      <td>TipNoServer</td>\n      <td>Unable to connect, please check the network</td>\n      <td>接続できません。ネットに繋がっているかどうかをご確認ください</td>\n      <td>NaN</td>\n    </tr>\n    <tr>\n      <th>8476</th>\n      <td>TipEmptyDeck</td>\n      <td>Empty</td>\n      <td>からっぽ</td>\n      <td>NaN</td>\n    </tr>\n    <tr>\n      <th>8477</th>\n      <td>LastLoginTip</td>\n      <td>Last login</td>\n      <td>前回登録</td>\n      <td>NaN</td>\n    </tr>\n  </tbody>\n</table>\n<p>7947 rows × 4 columns</p>\n</div>"
     },
     "metadata": {},
     "execution_count": 46
    }
   ],
   "source": [
    "import pandas as pd\n",
    "import math\n",
    "\n",
    "data = pd.read_csv('NoFM-lang-data.csv')\n",
    "\n",
    "empty_indo = data[data['Indo'].isnull()]\n",
    "\n",
    "progress = 1 - (len(empty_indo.index) / len(data.index))\n",
    "print('progress = {:.1%}'.format(progress))\n",
    "print('the remaining empty indo rows:')\n",
    "empty_indo.index = [x+2 for x in empty_indo.index]\n",
    "empty_indo\n"
   ]
  },
  {
   "cell_type": "code",
   "execution_count": null,
   "metadata": {},
   "outputs": [],
   "source": []
  }
 ]
}