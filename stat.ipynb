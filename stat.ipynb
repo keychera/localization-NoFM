{
 "metadata": {
  "language_info": {
   "codemirror_mode": {
    "name": "ipython",
    "version": 3
   },
   "file_extension": ".py",
   "mimetype": "text/x-python",
   "name": "python",
   "nbconvert_exporter": "python",
   "pygments_lexer": "ipython3",
   "version": "3.8.5-final"
  },
  "orig_nbformat": 2,
  "kernelspec": {
   "name": "python3",
   "display_name": "Python 3.8.5 64-bit",
   "metadata": {
    "interpreter": {
     "hash": "2db524e06e9f5f4ffedc911c917cb75e12dbc923643829bf417064a77eb14d37"
    }
   }
  }
 },
 "nbformat": 4,
 "nbformat_minor": 2,
 "cells": [
  {
   "cell_type": "code",
   "execution_count": 1,
   "metadata": {},
   "outputs": [
    {
     "output_type": "stream",
     "name": "stdout",
     "text": [
      "progress = 6.5%\nthe remaining empty indo rows:\n"
     ]
    },
    {
     "output_type": "execute_result",
     "data": {
      "text/plain": [
       "                   Id                                                 英文  \\\n",
       "250      cardDesc_104  <color=#e6c14f>Exiled</color>. Triggers when t...   \n",
       "251      cardName_106                                      Counterattack   \n",
       "252      cardDesc_106  Triggers when the enemy plays an attack card: ...   \n",
       "253      cardName_107                                               Wail   \n",
       "254      cardDesc_107  Triggers when the enemy plays a mana card: Cou...   \n",
       "...               ...                                                ...   \n",
       "8475        TipCancel                                             Cancel   \n",
       "8476  TipGetServerUrl                             Get the server address   \n",
       "8477      TipNoServer        Unable to connect, please check the network   \n",
       "8478     TipEmptyDeck                                              Empty   \n",
       "8479     LastLoginTip                                         Last login   \n",
       "\n",
       "                                                     日语 Indo  \n",
       "250   <color=#e6c14f>除外</color>\\n敵が4枚目のカードをプレイした場合、敵...  NaN  \n",
       "251                                                  反撃  NaN  \n",
       "252   敵が攻撃カードを\\nプレイした場合、\\nそのカードを打ち消す。\\nカードを1枚引き、\\n2点...  NaN  \n",
       "253                                                泣き叫ぶ  NaN  \n",
       "254                 敵が魔力カードをプレイした場合、そのカードを打ち消す。カードを1枚引く  NaN  \n",
       "...                                                 ...  ...  \n",
       "8475                                                 戻る  NaN  \n",
       "8476                                       サーバーアドレスを取得中  NaN  \n",
       "8477                     接続できません。ネットに繋がっているかどうかをご確認ください  NaN  \n",
       "8478                                               からっぽ  NaN  \n",
       "8479                                               前回登録  NaN  \n",
       "\n",
       "[7925 rows x 4 columns]"
      ],
      "text/html": "<div>\n<style scoped>\n    .dataframe tbody tr th:only-of-type {\n        vertical-align: middle;\n    }\n\n    .dataframe tbody tr th {\n        vertical-align: top;\n    }\n\n    .dataframe thead th {\n        text-align: right;\n    }\n</style>\n<table border=\"1\" class=\"dataframe\">\n  <thead>\n    <tr style=\"text-align: right;\">\n      <th></th>\n      <th>Id</th>\n      <th>英文</th>\n      <th>日语</th>\n      <th>Indo</th>\n    </tr>\n  </thead>\n  <tbody>\n    <tr>\n      <th>250</th>\n      <td>cardDesc_104</td>\n      <td>&lt;color=#e6c14f&gt;Exiled&lt;/color&gt;. Triggers when t...</td>\n      <td>&lt;color=#e6c14f&gt;除外&lt;/color&gt;\\n敵が4枚目のカードをプレイした場合、敵...</td>\n      <td>NaN</td>\n    </tr>\n    <tr>\n      <th>251</th>\n      <td>cardName_106</td>\n      <td>Counterattack</td>\n      <td>反撃</td>\n      <td>NaN</td>\n    </tr>\n    <tr>\n      <th>252</th>\n      <td>cardDesc_106</td>\n      <td>Triggers when the enemy plays an attack card: ...</td>\n      <td>敵が攻撃カードを\\nプレイした場合、\\nそのカードを打ち消す。\\nカードを1枚引き、\\n2点...</td>\n      <td>NaN</td>\n    </tr>\n    <tr>\n      <th>253</th>\n      <td>cardName_107</td>\n      <td>Wail</td>\n      <td>泣き叫ぶ</td>\n      <td>NaN</td>\n    </tr>\n    <tr>\n      <th>254</th>\n      <td>cardDesc_107</td>\n      <td>Triggers when the enemy plays a mana card: Cou...</td>\n      <td>敵が魔力カードをプレイした場合、そのカードを打ち消す。カードを1枚引く</td>\n      <td>NaN</td>\n    </tr>\n    <tr>\n      <th>...</th>\n      <td>...</td>\n      <td>...</td>\n      <td>...</td>\n      <td>...</td>\n    </tr>\n    <tr>\n      <th>8475</th>\n      <td>TipCancel</td>\n      <td>Cancel</td>\n      <td>戻る</td>\n      <td>NaN</td>\n    </tr>\n    <tr>\n      <th>8476</th>\n      <td>TipGetServerUrl</td>\n      <td>Get the server address</td>\n      <td>サーバーアドレスを取得中</td>\n      <td>NaN</td>\n    </tr>\n    <tr>\n      <th>8477</th>\n      <td>TipNoServer</td>\n      <td>Unable to connect, please check the network</td>\n      <td>接続できません。ネットに繋がっているかどうかをご確認ください</td>\n      <td>NaN</td>\n    </tr>\n    <tr>\n      <th>8478</th>\n      <td>TipEmptyDeck</td>\n      <td>Empty</td>\n      <td>からっぽ</td>\n      <td>NaN</td>\n    </tr>\n    <tr>\n      <th>8479</th>\n      <td>LastLoginTip</td>\n      <td>Last login</td>\n      <td>前回登録</td>\n      <td>NaN</td>\n    </tr>\n  </tbody>\n</table>\n<p>7925 rows × 4 columns</p>\n</div>"
     },
     "metadata": {},
     "execution_count": 1
    }
   ],
   "source": [
    "import pandas as pd\n",
    "import math\n",
    "\n",
    "data = pd.read_csv('NoFM-lang-data.csv')\n",
    "\n",
    "empty_indo = data[data['Indo'].isnull()]\n",
    "\n",
    "progress = 1 - (len(empty_indo.index) / len(data.index))\n",
    "print('progress = {:.1%}'.format(progress))\n",
    "print('the remaining empty indo rows:')\n",
    "empty_indo.index = [x+2 for x in empty_indo.index]\n",
    "empty_indo\n"
   ]
  },
  {
   "cell_type": "code",
   "execution_count": null,
   "metadata": {},
   "outputs": [],
   "source": []
  }
 ]
}