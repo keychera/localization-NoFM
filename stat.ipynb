{
 "metadata": {
  "language_info": {
   "codemirror_mode": {
    "name": "ipython",
    "version": 3
   },
   "file_extension": ".py",
   "mimetype": "text/x-python",
   "name": "python",
   "nbconvert_exporter": "python",
   "pygments_lexer": "ipython3",
   "version": "3.8.5-final"
  },
  "orig_nbformat": 2,
  "kernelspec": {
   "name": "python3",
   "display_name": "Python 3.8.5 64-bit",
   "metadata": {
    "interpreter": {
     "hash": "2db524e06e9f5f4ffedc911c917cb75e12dbc923643829bf417064a77eb14d37"
    }
   }
  }
 },
 "nbformat": 4,
 "nbformat_minor": 2,
 "cells": [
  {
   "cell_type": "code",
   "execution_count": 29,
   "metadata": {},
   "outputs": [
    {
     "output_type": "execute_result",
     "data": {
      "text/plain": [
       "                   Id                                           英文  \\\n",
       "0                  Id                                           en   \n",
       "1          cardName_1                                 Basic Attack   \n",
       "2          cardDesc_1                      Deal 1 physical damage.   \n",
       "3          cardName_2                                 Basic Attack   \n",
       "4          cardDesc_2                      Deal 2 physical damage.   \n",
       "...               ...                                          ...   \n",
       "8473        TipCancel                                       Cancel   \n",
       "8474  TipGetServerUrl                       Get the server address   \n",
       "8475      TipNoServer  Unable to connect, please check the network   \n",
       "8476     TipEmptyDeck                                        Empty   \n",
       "8477     LastLoginTip                                   Last login   \n",
       "\n",
       "                                  日语 (chinese word for Indonesian lang)  \n",
       "0                                 jp                                 id  \n",
       "1                               通常攻撃                     Serangan Dasar  \n",
       "2                        1点のダメージを与える             Berikan 1 damage fisik  \n",
       "3                               通常攻撃                     Serangan Dasar  \n",
       "4                        2点のダメージを与える             Berikan 2 damage fisik  \n",
       "...                              ...                                ...  \n",
       "8473                              戻る                                NaN  \n",
       "8474                    サーバーアドレスを取得中                                NaN  \n",
       "8475  接続できません。ネットに繋がっているかどうかをご確認ください                                NaN  \n",
       "8476                            からっぽ                                NaN  \n",
       "8477                            前回登録                                NaN  \n",
       "\n",
       "[8478 rows x 4 columns]"
      ],
      "text/html": "<div>\n<style scoped>\n    .dataframe tbody tr th:only-of-type {\n        vertical-align: middle;\n    }\n\n    .dataframe tbody tr th {\n        vertical-align: top;\n    }\n\n    .dataframe thead th {\n        text-align: right;\n    }\n</style>\n<table border=\"1\" class=\"dataframe\">\n  <thead>\n    <tr style=\"text-align: right;\">\n      <th></th>\n      <th>Id</th>\n      <th>英文</th>\n      <th>日语</th>\n      <th>(chinese word for Indonesian lang)</th>\n    </tr>\n  </thead>\n  <tbody>\n    <tr>\n      <th>0</th>\n      <td>Id</td>\n      <td>en</td>\n      <td>jp</td>\n      <td>id</td>\n    </tr>\n    <tr>\n      <th>1</th>\n      <td>cardName_1</td>\n      <td>Basic Attack</td>\n      <td>通常攻撃</td>\n      <td>Serangan Dasar</td>\n    </tr>\n    <tr>\n      <th>2</th>\n      <td>cardDesc_1</td>\n      <td>Deal 1 physical damage.</td>\n      <td>1点のダメージを与える</td>\n      <td>Berikan 1 damage fisik</td>\n    </tr>\n    <tr>\n      <th>3</th>\n      <td>cardName_2</td>\n      <td>Basic Attack</td>\n      <td>通常攻撃</td>\n      <td>Serangan Dasar</td>\n    </tr>\n    <tr>\n      <th>4</th>\n      <td>cardDesc_2</td>\n      <td>Deal 2 physical damage.</td>\n      <td>2点のダメージを与える</td>\n      <td>Berikan 2 damage fisik</td>\n    </tr>\n    <tr>\n      <th>...</th>\n      <td>...</td>\n      <td>...</td>\n      <td>...</td>\n      <td>...</td>\n    </tr>\n    <tr>\n      <th>8473</th>\n      <td>TipCancel</td>\n      <td>Cancel</td>\n      <td>戻る</td>\n      <td>NaN</td>\n    </tr>\n    <tr>\n      <th>8474</th>\n      <td>TipGetServerUrl</td>\n      <td>Get the server address</td>\n      <td>サーバーアドレスを取得中</td>\n      <td>NaN</td>\n    </tr>\n    <tr>\n      <th>8475</th>\n      <td>TipNoServer</td>\n      <td>Unable to connect, please check the network</td>\n      <td>接続できません。ネットに繋がっているかどうかをご確認ください</td>\n      <td>NaN</td>\n    </tr>\n    <tr>\n      <th>8476</th>\n      <td>TipEmptyDeck</td>\n      <td>Empty</td>\n      <td>からっぽ</td>\n      <td>NaN</td>\n    </tr>\n    <tr>\n      <th>8477</th>\n      <td>LastLoginTip</td>\n      <td>Last login</td>\n      <td>前回登録</td>\n      <td>NaN</td>\n    </tr>\n  </tbody>\n</table>\n<p>8478 rows × 4 columns</p>\n</div>"
     },
     "metadata": {},
     "execution_count": 29
    }
   ],
   "source": [
    "import pandas as pd\n",
    "\n",
    "data = pd.read_csv('NoFM-lang-data.csv')\n",
    "data\n"
   ]
  },
  {
   "cell_type": "code",
   "execution_count": null,
   "metadata": {},
   "outputs": [],
   "source": []
  }
 ]
}